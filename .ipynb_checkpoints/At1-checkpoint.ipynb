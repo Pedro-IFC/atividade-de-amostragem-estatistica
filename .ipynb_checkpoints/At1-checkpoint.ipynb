{
 "cells": [
  {
   "cell_type": "code",
   "execution_count": 1,
   "id": "01ba22ff-8ded-41c2-8b1c-f76926bae184",
   "metadata": {},
   "outputs": [
    {
     "name": "stdout",
     "output_type": "stream",
     "text": [
      "O arquivo não existe.\n",
      "O arquivo não existe.\n"
     ]
    }
   ],
   "source": [
    "import random\n",
    "import pandas as pd\n",
    "import os\n",
    "\n",
    "arquivos =[\"amostra.csv\", \"pop.csv\"] \n",
    "for arq in arquivos:\n",
    "    if os.path.exists(arq):\n",
    "        os.remove(arq)\n",
    "    else:\n",
    "        print(\"O arquivo não existe.\")"
   ]
  },
  {
   "cell_type": "code",
   "execution_count": 2,
   "id": "fd9f338d-e055-463f-b508-dd53fcf43781",
   "metadata": {},
   "outputs": [],
   "source": [
    "listIdades=[]\n",
    "for x in range(0, 10000):\n",
    "    listIdades.append(random.randint(0, 100))"
   ]
  },
  {
   "cell_type": "code",
   "execution_count": 3,
   "id": "4c936dc1-55d4-481a-9b65-c55f6343a6ba",
   "metadata": {},
   "outputs": [
    {
     "data": {
      "text/plain": [
       "10000"
      ]
     },
     "execution_count": 3,
     "metadata": {},
     "output_type": "execute_result"
    }
   ],
   "source": [
    "len(listIdades)"
   ]
  },
  {
   "cell_type": "code",
   "execution_count": 4,
   "id": "824f0284-9cf4-4e91-9e34-f31f765c4491",
   "metadata": {},
   "outputs": [
    {
     "name": "stdout",
     "output_type": "stream",
     "text": [
      "0.04\n"
     ]
    }
   ],
   "source": [
    "#N0\n",
    "e0=5\n",
    "n0 = 1/(e0*e0)\n",
    "print(n0)"
   ]
  },
  {
   "cell_type": "code",
   "execution_count": 5,
   "id": "fd921334-5bb2-4b72-8fdc-f950a305af3a",
   "metadata": {},
   "outputs": [
    {
     "name": "stdout",
     "output_type": "stream",
     "text": [
      "0.03999984000064\n"
     ]
    }
   ],
   "source": [
    "#N\n",
    "n = (x+1)*n0/(x+1+n0)\n",
    "print(n)"
   ]
  },
  {
   "cell_type": "code",
   "execution_count": 10,
   "id": "b76058fe-7f17-4f41-b503-822f533c5a49",
   "metadata": {},
   "outputs": [],
   "source": [
    "amostragem=round(x*n)"
   ]
  },
  {
   "cell_type": "code",
   "execution_count": 11,
   "id": "391f101e-4cc8-4e57-8185-c13b6f3d5cf4",
   "metadata": {},
   "outputs": [],
   "source": [
    "listIdadesClone=listIdades[:]\n",
    "amostra=[]\n",
    "for y in range(0, amostragem):\n",
    "    rand = random.randint(0, len(listIdadesClone)-1)\n",
    "    amostra.append(listIdadesClone[rand])\n",
    "    listIdadesClone.pop(rand)"
   ]
  },
  {
   "cell_type": "code",
   "execution_count": 12,
   "id": "dce58997-57ab-4955-b0ad-dca8abf13ae3",
   "metadata": {},
   "outputs": [],
   "source": [
    "df = pd.DataFrame(data=listIdades)\n",
    "df.to_csv(\"pop.csv\")"
   ]
  },
  {
   "cell_type": "code",
   "execution_count": 13,
   "id": "3f72a579-4998-4c28-8f6b-42c850733d06",
   "metadata": {},
   "outputs": [],
   "source": [
    "df = pd.DataFrame(data=amostra)\n",
    "df.to_csv(\"amostra.csv\")"
   ]
  },
  {
   "cell_type": "code",
   "execution_count": null,
   "id": "712c91ba-80a8-4ea4-bf9c-c640de0795de",
   "metadata": {},
   "outputs": [],
   "source": []
  }
 ],
 "metadata": {
  "kernelspec": {
   "display_name": "Python 3 (ipykernel)",
   "language": "python",
   "name": "python3"
  },
  "language_info": {
   "codemirror_mode": {
    "name": "ipython",
    "version": 3
   },
   "file_extension": ".py",
   "mimetype": "text/x-python",
   "name": "python",
   "nbconvert_exporter": "python",
   "pygments_lexer": "ipython3",
   "version": "3.7.9"
  }
 },
 "nbformat": 4,
 "nbformat_minor": 5
}
