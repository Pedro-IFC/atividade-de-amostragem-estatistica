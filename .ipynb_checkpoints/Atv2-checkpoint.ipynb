{
 "cells": [
  {
   "cell_type": "code",
   "execution_count": 26,
   "id": "2b8087a0-cd21-4ec0-9348-f672c026f24c",
   "metadata": {},
   "outputs": [],
   "source": [
    "import random\n",
    "from collections import deque"
   ]
  },
  {
   "cell_type": "code",
   "execution_count": 32,
   "id": "50a229b0-f509-4323-90c5-691f18af8f21",
   "metadata": {},
   "outputs": [],
   "source": [
    "def iniciar_jogo(num_casas=10):\n",
    "    posicao = 0\n",
    "    while True:\n",
    "        input(\"Aperte Enter para rolar o dado\")\n",
    "        \n",
    "        dado = random.randint(1, 6)\n",
    "        nova_posicao = posicao + dado\n",
    "\n",
    "        print(f\"Você está na casa {posicao}\\n Tirou {dado} no dado.\")\n",
    "\n",
    "        if nova_posicao >= num_casas:\n",
    "            dado_fim = random.randint(1, 6)\n",
    "            print(f\"Você atingiu a última casa. Deve tirar mais que 4 para ganhar, tirou {dado_fim}.\")\n",
    "            input(\"Aperte Enter para rolar o dado\")\n",
    "            if dado_fim > 4:\n",
    "                print(\"Você venceu o jogo!\")\n",
    "                break\n",
    "            else:\n",
    "                print(\"Você falhou!\")\n",
    "                nova_posicao = 0\n",
    "        \n",
    "        posicao = nova_posicao\n",
    "        print(\"-\")"
   ]
  },
  {
   "cell_type": "code",
   "execution_count": 33,
   "id": "0e4f049c-ceef-4515-a02c-84a14c9b928a",
   "metadata": {},
   "outputs": [
    {
     "name": "stdin",
     "output_type": "stream",
     "text": [
      "Aperte Enter para rolar o dado \n"
     ]
    },
    {
     "name": "stdout",
     "output_type": "stream",
     "text": [
      "Você está na casa 0\n",
      " Tirou 3 no dado.\n",
      "-\n"
     ]
    },
    {
     "name": "stdin",
     "output_type": "stream",
     "text": [
      "Aperte Enter para rolar o dado \n"
     ]
    },
    {
     "name": "stdout",
     "output_type": "stream",
     "text": [
      "Você está na casa 3\n",
      " Tirou 1 no dado.\n",
      "-\n"
     ]
    },
    {
     "name": "stdin",
     "output_type": "stream",
     "text": [
      "Aperte Enter para rolar o dado \n"
     ]
    },
    {
     "name": "stdout",
     "output_type": "stream",
     "text": [
      "Você está na casa 4\n",
      " Tirou 4 no dado.\n",
      "-\n"
     ]
    },
    {
     "name": "stdin",
     "output_type": "stream",
     "text": [
      "Aperte Enter para rolar o dado \n"
     ]
    },
    {
     "name": "stdout",
     "output_type": "stream",
     "text": [
      "Você está na casa 8\n",
      " Tirou 3 no dado.\n",
      "Você atingiu a última casa. Deve tirar mais que 4 para ganhar, tirou 4.\n"
     ]
    },
    {
     "name": "stdin",
     "output_type": "stream",
     "text": [
      "Aperte Enter para rolar o dado \n"
     ]
    },
    {
     "name": "stdout",
     "output_type": "stream",
     "text": [
      "Você falhou!\n",
      "-\n"
     ]
    },
    {
     "name": "stdin",
     "output_type": "stream",
     "text": [
      "Aperte Enter para rolar o dado \n"
     ]
    },
    {
     "name": "stdout",
     "output_type": "stream",
     "text": [
      "Você está na casa 0\n",
      " Tirou 4 no dado.\n",
      "-\n"
     ]
    },
    {
     "name": "stdin",
     "output_type": "stream",
     "text": [
      "Aperte Enter para rolar o dado \n"
     ]
    },
    {
     "name": "stdout",
     "output_type": "stream",
     "text": [
      "Você está na casa 4\n",
      " Tirou 1 no dado.\n",
      "-\n"
     ]
    },
    {
     "name": "stdin",
     "output_type": "stream",
     "text": [
      "Aperte Enter para rolar o dado \n"
     ]
    },
    {
     "name": "stdout",
     "output_type": "stream",
     "text": [
      "Você está na casa 5\n",
      " Tirou 6 no dado.\n",
      "Você atingiu a última casa. Deve tirar mais que 4 para ganhar, tirou 2.\n"
     ]
    },
    {
     "name": "stdin",
     "output_type": "stream",
     "text": [
      "Aperte Enter para rolar o dado \n"
     ]
    },
    {
     "name": "stdout",
     "output_type": "stream",
     "text": [
      "Você falhou!\n",
      "-\n"
     ]
    },
    {
     "name": "stdin",
     "output_type": "stream",
     "text": [
      "Aperte Enter para rolar o dado \n"
     ]
    },
    {
     "name": "stdout",
     "output_type": "stream",
     "text": [
      "Você está na casa 0\n",
      " Tirou 2 no dado.\n",
      "-\n"
     ]
    },
    {
     "name": "stdin",
     "output_type": "stream",
     "text": [
      "Aperte Enter para rolar o dado \n"
     ]
    },
    {
     "name": "stdout",
     "output_type": "stream",
     "text": [
      "Você está na casa 2\n",
      " Tirou 1 no dado.\n",
      "-\n"
     ]
    },
    {
     "name": "stdin",
     "output_type": "stream",
     "text": [
      "Aperte Enter para rolar o dado \n"
     ]
    },
    {
     "name": "stdout",
     "output_type": "stream",
     "text": [
      "Você está na casa 3\n",
      " Tirou 3 no dado.\n",
      "-\n"
     ]
    },
    {
     "name": "stdin",
     "output_type": "stream",
     "text": [
      "Aperte Enter para rolar o dado \n"
     ]
    },
    {
     "name": "stdout",
     "output_type": "stream",
     "text": [
      "Você está na casa 6\n",
      " Tirou 1 no dado.\n",
      "-\n"
     ]
    },
    {
     "name": "stdin",
     "output_type": "stream",
     "text": [
      "Aperte Enter para rolar o dado \n"
     ]
    },
    {
     "name": "stdout",
     "output_type": "stream",
     "text": [
      "Você está na casa 7\n",
      " Tirou 3 no dado.\n",
      "Você atingiu a última casa. Deve tirar mais que 4 para ganhar, tirou 5.\n"
     ]
    },
    {
     "name": "stdin",
     "output_type": "stream",
     "text": [
      "Aperte Enter para rolar o dado \n"
     ]
    },
    {
     "name": "stdout",
     "output_type": "stream",
     "text": [
      "Você venceu o jogo!\n"
     ]
    }
   ],
   "source": [
    "iniciar_jogo(num_casas=10)"
   ]
  },
  {
   "cell_type": "code",
   "execution_count": null,
   "id": "f700fc05-a85a-4275-8160-84431a1e9784",
   "metadata": {},
   "outputs": [],
   "source": []
  }
 ],
 "metadata": {
  "kernelspec": {
   "display_name": "Python 3 (ipykernel)",
   "language": "python",
   "name": "python3"
  },
  "language_info": {
   "codemirror_mode": {
    "name": "ipython",
    "version": 3
   },
   "file_extension": ".py",
   "mimetype": "text/x-python",
   "name": "python",
   "nbconvert_exporter": "python",
   "pygments_lexer": "ipython3",
   "version": "3.7.9"
  }
 },
 "nbformat": 4,
 "nbformat_minor": 5
}
